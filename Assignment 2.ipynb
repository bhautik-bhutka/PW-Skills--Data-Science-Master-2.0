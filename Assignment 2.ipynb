{
 "cells": [
  {
   "cell_type": "markdown",
   "id": "c7ac8a28-25c4-46f7-bed3-2416b91928a0",
   "metadata": {},
   "source": [
    "# Answer 1\n",
    "In python there are 2 types of comments.'''\n",
    "\n",
    "Comment type 1 starts with '#'\n",
    "\n",
    "Comment type 2 starts with ''' and ends with '''."
   ]
  },
  {
   "cell_type": "markdown",
   "id": "78753dc9-b606-445c-a8bf-1dfa51bad106",
   "metadata": {},
   "source": [
    "# Answer 2\n",
    "\n",
    "Variables are something which can stores the values. Variables must start with any alphabets, It can contains \n",
    "numbers and \"_\" . It can not starts with _."
   ]
  },
  {
   "cell_type": "markdown",
   "id": "028a7ba1-0153-4b43-84a1-f6b35be28b2f",
   "metadata": {},
   "source": [
    "# Answer 3\n",
    "\n",
    "To convert data into another data type we simply use pre defined functions. For eg. str, int, float, list, set, dict, ect."
   ]
  },
  {
   "cell_type": "markdown",
   "id": "f29c17a6-49c3-4a01-a5f0-114c35d09e79",
   "metadata": {},
   "source": [
    "# Answer 4\n",
    "\n",
    " Below is a general expression we use to execute any python file.\n",
    " \n",
    "Provided - 1) We have written a text file which contains whole python code.\n",
    "\n",
    "           2) We have to save that file with extension of \".py\"\n",
    "           \n",
    "           3) In CLI use cd comnand to reach that folder and then use below expression.\n",
    "           \n",
    "python file_name.py"
   ]
  },
  {
   "cell_type": "markdown",
   "id": "746b49e3-b869-4005-b1a6-c7feece1250a",
   "metadata": {},
   "source": [
    "# Answer 5"
   ]
  },
  {
   "cell_type": "code",
   "execution_count": 1,
   "id": "8846bd2e-994c-417a-b1b2-241b1d26c735",
   "metadata": {},
   "outputs": [
    {
     "name": "stdout",
     "output_type": "stream",
     "text": [
      "[2, 3]\n"
     ]
    }
   ],
   "source": [
    "my_list = [1, 2, 3, 4, 5]\n",
    "new_list = my_list[1:3]\n",
    "print(new_list)"
   ]
  },
  {
   "cell_type": "markdown",
   "id": "0882ebb1-1e5e-48db-8be9-c15866ea47f7",
   "metadata": {},
   "source": [
    "# Answer 6\n",
    "\n",
    "Complex number is a combination of Real number and Imaginary Number. General expression in \n",
    "math is \"Number + Number(i)\".\n",
    "\n",
    "In python we write as a \"Number + Number(j). '''"
   ]
  },
  {
   "cell_type": "markdown",
   "id": "7086a41f-9be1-48e1-9736-8bd2dca3ead2",
   "metadata": {},
   "source": [
    "# Answer 7\n",
    "\n",
    "Below is the correct way to declare a variable.\n",
    "\n",
    "age = 25"
   ]
  },
  {
   "cell_type": "markdown",
   "id": "6bcf6498-8ff4-4857-a0a2-09eac455b32f",
   "metadata": {},
   "source": [
    "# Answer 8"
   ]
  },
  {
   "cell_type": "code",
   "execution_count": 4,
   "id": "b1032346-e0d4-4434-a346-00d1ac49d09f",
   "metadata": {},
   "outputs": [
    {
     "name": "stdout",
     "output_type": "stream",
     "text": [
      "<class 'float'>\n"
     ]
    }
   ],
   "source": [
    "# This variavle is belongs to \"Float\" data type.\n",
    "price = 9.99\n",
    "print(type(price))"
   ]
  },
  {
   "cell_type": "markdown",
   "id": "bf3e55ea-9458-40d1-af02-7cbe07d31e07",
   "metadata": {},
   "source": [
    "# Answer 9"
   ]
  },
  {
   "cell_type": "code",
   "execution_count": 5,
   "id": "0420139b-c788-404c-8818-450432022de8",
   "metadata": {},
   "outputs": [
    {
     "name": "stdout",
     "output_type": "stream",
     "text": [
      "Bhautik Bhutka\n"
     ]
    }
   ],
   "source": [
    "name = \"Bhautik Bhutka\"\n",
    "print(name)"
   ]
  },
  {
   "cell_type": "markdown",
   "id": "4eff5457-27cf-4c66-b948-e98c9b143b3a",
   "metadata": {},
   "source": [
    "# Answer 10"
   ]
  },
  {
   "cell_type": "code",
   "execution_count": 6,
   "id": "0e59ceef-f63a-4ce1-80cf-a9e91b224fc1",
   "metadata": {},
   "outputs": [
    {
     "name": "stdout",
     "output_type": "stream",
     "text": [
      "World\n"
     ]
    }
   ],
   "source": [
    "string = \"Hello, World!\"\n",
    "print(string[7:12])"
   ]
  },
  {
   "cell_type": "markdown",
   "id": "3896c43a-85c2-4d93-be41-4c7400e6a902",
   "metadata": {},
   "source": [
    "# Answer 11"
   ]
  },
  {
   "cell_type": "code",
   "execution_count": 8,
   "id": "5be81186-757b-4856-902b-4346976b9f68",
   "metadata": {},
   "outputs": [],
   "source": [
    "# Below expressions shows that I'm currently a student.\n",
    "is_student = True"
   ]
  },
  {
   "cell_type": "code",
   "execution_count": null,
   "id": "33757239-2b89-4ecf-80ce-c53d39df60d2",
   "metadata": {},
   "outputs": [],
   "source": []
  }
 ],
 "metadata": {
  "kernelspec": {
   "display_name": "Python 3 (ipykernel)",
   "language": "python",
   "name": "python3"
  },
  "language_info": {
   "codemirror_mode": {
    "name": "ipython",
    "version": 3
   },
   "file_extension": ".py",
   "mimetype": "text/x-python",
   "name": "python",
   "nbconvert_exporter": "python",
   "pygments_lexer": "ipython3",
   "version": "3.10.8"
  }
 },
 "nbformat": 4,
 "nbformat_minor": 5
}
