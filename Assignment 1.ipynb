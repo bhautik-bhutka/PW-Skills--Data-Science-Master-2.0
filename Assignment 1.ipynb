{
 "cells": [
  {
   "cell_type": "markdown",
   "id": "f0c0ee0d-6eef-48ca-936b-5bc39b7e62ae",
   "metadata": {},
   "source": [
    "Answer 1"
   ]
  },
  {
   "cell_type": "code",
   "execution_count": 2,
   "id": "3050144a-0343-4fcd-adca-9fe37e3eeadb",
   "metadata": {},
   "outputs": [
    {
     "name": "stdout",
     "output_type": "stream",
     "text": [
      "<class 'str'>\n",
      "<class 'list'>\n",
      "<class 'float'>\n",
      "<class 'tuple'>\n"
     ]
    }
   ],
   "source": [
    "a = \"Bhautik\"\n",
    "print(type(a))\n",
    "\n",
    "a = [1,2,3,4,4+7j,5.67,7.98]\n",
    "print(type(a))\n",
    "\n",
    "a = 7.19\n",
    "print(type(a))\n",
    "\n",
    "a = (1,2,3,5,47,7.69,[1,2])\n",
    "print(type(a))"
   ]
  },
  {
   "cell_type": "markdown",
   "id": "03f139c1-d5d3-472f-9a10-c3d8beccfea3",
   "metadata": {},
   "source": [
    "Answer 2"
   ]
  },
  {
   "cell_type": "code",
   "execution_count": 3,
   "id": "9ea93867-536b-49b3-8c06-fe4d38600bbf",
   "metadata": {},
   "outputs": [
    {
     "name": "stdout",
     "output_type": "stream",
     "text": [
      "<class 'str'>\n",
      "<class 'str'>\n",
      "<class 'list'>\n",
      "<class 'int'>\n"
     ]
    }
   ],
   "source": [
    "'''datatype of var1 is \"String\"'''\n",
    "var1 = ''\n",
    "print(type(var1))\n",
    "\n",
    "'''datatype of var2 is \"String\"'''\n",
    "var2 = '[ DS , ML , Python]'\n",
    "print(type(var2))\n",
    "\n",
    "'''datatype of var3 is \"List\"'''\n",
    "var3 = ['DS', 'ML', 'PYTHON']\n",
    "print(type(var3))\n",
    "\n",
    "'''datatype of var4 is \"integer\"'''\n",
    "var4 = 1\n",
    "print(type(var4))"
   ]
  },
  {
   "cell_type": "markdown",
   "id": "db51264a-5d3a-4e58-8c45-7ddcbbead0b8",
   "metadata": {},
   "source": [
    "Answer 3"
   ]
  },
  {
   "cell_type": "markdown",
   "id": "873450f6-eabb-45b6-9ea1-0a39f0fa3f32",
   "metadata": {},
   "source": [
    "'/' Use of this operator to get Quotient of any 2 numbers. \n",
    "input - 7/2\n",
    "output - 3.5\n",
    "\n",
    "'%' use of this operator to get remainder of any numbers. \n",
    "input - 7%2\n",
    "output - 1\n",
    "\n",
    "'//' Use of this operator is to get nearest round figured whole number remainder of any 2 numbers.\n",
    "input - 13/3\n",
    "output - 4\n",
    "\n",
    "'**' This operator is used as a power operator. Whenever we need to multiply n times number by itself at that time we use this function. \n",
    "input - \"7**3\"\n",
    "output - 343\n",
    "\n",
    "For Eg."
   ]
  },
  {
   "cell_type": "code",
   "execution_count": 5,
   "id": "a291bd85-c7c9-45a5-8f37-524bfeb5aa3b",
   "metadata": {},
   "outputs": [
    {
     "name": "stdout",
     "output_type": "stream",
     "text": [
      "3.5\n",
      "1\n",
      "4\n",
      "343\n"
     ]
    }
   ],
   "source": [
    "print(7/2)\n",
    "print(7%2)\n",
    "print(13//3)\n",
    "print(7**3)"
   ]
  },
  {
   "cell_type": "markdown",
   "id": "d940f112-dc25-4bc2-b5ee-57d0f431f247",
   "metadata": {},
   "source": [
    "Answer 4"
   ]
  },
  {
   "cell_type": "code",
   "execution_count": null,
   "id": "a8c19b2a-5b58-417f-9d08-77423844d99d",
   "metadata": {},
   "outputs": [],
   "source": [
    "lst = [1,2,3,(9,8,7),4,5,'bhautik','jaanvi',[8+5j,'jigar'],13+6j]\n",
    "for i in lst:\n",
    "    print(type(i))"
   ]
  },
  {
   "cell_type": "markdown",
   "id": "2db1c0cf-93b4-475e-a688-89fa92b1f4fa",
   "metadata": {},
   "source": [
    "Answer 5"
   ]
  },
  {
   "cell_type": "code",
   "execution_count": null,
   "id": "0bce560a-cdac-4640-8a66-8ab09cd2d974",
   "metadata": {},
   "outputs": [],
   "source": [
    "a = int(input(\"type number A:\"))\n",
    "b = int(input(\"type number B:\"))\n",
    "count = 0\n",
    "\n",
    "while a%b == 0:\n",
    "    a = a/b\n",
    "    count += 1\n",
    "    \n",
    "print(f\"{count} times {a} is divisible by {b}.\") "
   ]
  },
  {
   "cell_type": "markdown",
   "id": "0c6f7899-dc7c-4085-835b-320b905a99d6",
   "metadata": {},
   "source": [
    "Answer 6"
   ]
  },
  {
   "cell_type": "code",
   "execution_count": null,
   "id": "6888f2e2-d81f-42fd-839b-a093d2a9e9e4",
   "metadata": {},
   "outputs": [],
   "source": [
    "lst = [1,2,3,4,5,6,7,8,9,11,22,33,44,55,66,77,88,99,12,1314,14,15,16,17,19]\n",
    "\n",
    "for e in range(1, 26):\n",
    "    if e%3 == 0:\n",
    "        print(\"number is divisible by 3\")\n",
    "    else:\n",
    "        print(\"number is not divisible by 3\")"
   ]
  },
  {
   "cell_type": "markdown",
   "id": "b70d6ed8-afad-43dc-8501-20f87fb9946f",
   "metadata": {},
   "source": [
    "Answer 7"
   ]
  },
  {
   "cell_type": "code",
   "execution_count": null,
   "id": "f615e2e8-4961-4a7b-8728-e1e31f9daa61",
   "metadata": {},
   "outputs": [],
   "source": [
    "'''For mutable data we can replace an any index with anything for eg. List. If I want to update a element from list, \n",
    "I can do that.'''\n",
    "list = [1,2,3,4,5]\n",
    "list[2] = 999\n",
    "#Output of above code is [1,2,999,4,5]\n",
    "\n",
    "'''For immutable data we can not replace an any index with anything for eg. string.'''\n",
    "str = \"bhautik\"\n",
    "# Now if I want to change my 1st latter of my string I can't do that with this\n",
    "str[3] = \"v\"\n",
    "# It'll give us an error."
   ]
  }
 ],
 "metadata": {
  "kernelspec": {
   "display_name": "Python 3 (ipykernel)",
   "language": "python",
   "name": "python3"
  },
  "language_info": {
   "codemirror_mode": {
    "name": "ipython",
    "version": 3
   },
   "file_extension": ".py",
   "mimetype": "text/x-python",
   "name": "python",
   "nbconvert_exporter": "python",
   "pygments_lexer": "ipython3",
   "version": "3.10.8"
  }
 },
 "nbformat": 4,
 "nbformat_minor": 5
}
