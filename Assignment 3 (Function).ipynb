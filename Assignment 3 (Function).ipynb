{
 "cells": [
  {
   "cell_type": "markdown",
   "id": "81045436-0932-4da5-9de0-53ffa4100de3",
   "metadata": {},
   "source": [
    "# Answer 1\n",
    "\n",
    "'def' keyword is used to create a function."
   ]
  },
  {
   "cell_type": "code",
   "execution_count": 1,
   "id": "74c5a0e9-0735-4322-af9f-18c604b7fc92",
   "metadata": {},
   "outputs": [
    {
     "name": "stdout",
     "output_type": "stream",
     "text": [
      "[1, 3, 5, 7, 9, 11, 13, 15, 17, 19, 21, 23, 25]\n"
     ]
    }
   ],
   "source": [
    "def odd():\n",
    "    lst = [1,2,3,4,5,6,7,8,9,10,11,12,13,14,15,16,17,18,19,20,21,22,23,24,25]\n",
    "    nl = []\n",
    "    for n in lst:\n",
    "        if n%2 != 0:\n",
    "            nl.append(n)\n",
    "    print(nl)\n",
    "            \n",
    "odd()"
   ]
  },
  {
   "cell_type": "markdown",
   "id": "67228dd8-ad11-445d-a7a7-25b33aa64660",
   "metadata": {},
   "source": [
    "# Answer 2\n",
    "\n",
    "args stands for arguments and kwargs stands for keyword arguments.\n",
    "\n",
    "Args is positional variable, if I change the position of of the variables then it'll affects my all the variables.\n",
    "\n",
    "But in case of kwargs, It won't affects any variables because we directly assign a kwargs to variables. "
   ]
  },
  {
   "cell_type": "code",
   "execution_count": 2,
   "id": "ec5616c5-bb92-4b49-b297-721514987b8c",
   "metadata": {},
   "outputs": [
    {
     "name": "stdout",
     "output_type": "stream",
     "text": [
      "10\n",
      "12\n",
      "13\n",
      "12\n",
      "13\n",
      "10\n"
     ]
    }
   ],
   "source": [
    "def args(a,b,c):\n",
    "    print(a)\n",
    "    print(b)\n",
    "    print(c)\n",
    "    \n",
    "args(10, 12, 13)\n",
    "args(12, 13, 10)"
   ]
  },
  {
   "cell_type": "code",
   "execution_count": 3,
   "id": "dd9214ba-43f6-41af-9ee9-80a095b3c129",
   "metadata": {},
   "outputs": [
    {
     "name": "stdout",
     "output_type": "stream",
     "text": [
      "10\n",
      "12\n",
      "13\n",
      "10\n",
      "12\n",
      "13\n"
     ]
    }
   ],
   "source": [
    "def kwargs(a, b, c):\n",
    "    print(a)\n",
    "    print(b)\n",
    "    print(c)\n",
    "    \n",
    "kwargs(a=10, b=12 ,c=13)\n",
    "kwargs(b=12, a=10, c=13)\n"
   ]
  },
  {
   "cell_type": "markdown",
   "id": "928e0e75-7e8a-4e46-b08f-b5187f78e6f3",
   "metadata": {},
   "source": [
    "# Answer 3\n",
    "\n",
    "In basic words, Iterators are nothing but extracted values by index from list, tuple, strings, etc.  "
   ]
  },
  {
   "cell_type": "markdown",
   "id": "2e757cd8-303b-4dd4-997b-488708087f28",
   "metadata": {},
   "source": [
    "# Answer 4\n",
    "\n",
    "Generator functions are functions which'll generate an output and forgot previous output.\n",
    "\n",
    "Generator functions are create using \"yield\" keyword.\n",
    "\n",
    "Best and common example of generator function is \"range\" function."
   ]
  },
  {
   "cell_type": "markdown",
   "id": "05903f0f-8b94-446d-bbee-bad325a0cc3f",
   "metadata": {},
   "source": [
    "# Answer 5"
   ]
  },
  {
   "cell_type": "code",
   "execution_count": 19,
   "id": "19defa5b-7242-4dd5-9901-98bb1c9fec13",
   "metadata": {},
   "outputs": [
    {
     "name": "stdout",
     "output_type": "stream",
     "text": [
      "1\n",
      "11\n",
      "13\n",
      "17\n",
      "19\n",
      "23\n",
      "29\n",
      "31\n",
      "37\n",
      "41\n",
      "43\n",
      "47\n",
      "53\n",
      "59\n",
      "61\n",
      "67\n",
      "71\n",
      "73\n",
      "79\n",
      "83\n",
      "89\n",
      "97\n",
      "101\n",
      "103\n",
      "107\n",
      "109\n",
      "113\n",
      "121\n",
      "127\n",
      "131\n",
      "137\n",
      "139\n",
      "143\n",
      "149\n",
      "151\n",
      "157\n",
      "163\n",
      "167\n",
      "169\n",
      "173\n",
      "179\n",
      "181\n",
      "187\n",
      "191\n",
      "193\n",
      "197\n",
      "199\n",
      "209\n",
      "211\n",
      "221\n",
      "223\n",
      "227\n",
      "229\n",
      "233\n",
      "239\n",
      "241\n",
      "247\n",
      "251\n",
      "253\n",
      "257\n",
      "263\n",
      "269\n",
      "271\n",
      "277\n",
      "281\n",
      "283\n",
      "289\n",
      "293\n",
      "299\n"
     ]
    }
   ],
   "source": [
    "def prime():\n",
    "    for i in range(300):\n",
    "        if i%2 == 0 or i%3 == 0 or i%5 == 0 or i%7 == 0:\n",
    "            pass\n",
    "        else:\n",
    "            print(i)\n",
    "            \n",
    "prime()\n",
    "        "
   ]
  },
  {
   "cell_type": "code",
   "execution_count": 4,
   "id": "dde4bb77-fcba-4b7e-a166-4cd5584376b2",
   "metadata": {},
   "outputs": [],
   "source": []
  }
 ],
 "metadata": {
  "kernelspec": {
   "display_name": "Python 3 (ipykernel)",
   "language": "python",
   "name": "python3"
  },
  "language_info": {
   "codemirror_mode": {
    "name": "ipython",
    "version": 3
   },
   "file_extension": ".py",
   "mimetype": "text/x-python",
   "name": "python",
   "nbconvert_exporter": "python",
   "pygments_lexer": "ipython3",
   "version": "3.10.8"
  }
 },
 "nbformat": 4,
 "nbformat_minor": 5
}
